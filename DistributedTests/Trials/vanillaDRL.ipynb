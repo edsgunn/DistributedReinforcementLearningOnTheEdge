{
 "cells": [
  {
   "cell_type": "markdown",
   "metadata": {},
   "source": [
    "### Vanilla Distributed Reinforcement Learning"
   ]
  },
  {
   "cell_type": "code",
   "execution_count": 1,
   "metadata": {},
   "outputs": [
    {
     "name": "stdout",
     "output_type": "stream",
     "text": [
      "/Users/edwardgunn/Documents/4YP/DistributedReinforcementLearningOnTheEdge\n"
     ]
    }
   ],
   "source": [
    "%cd ../.."
   ]
  },
  {
   "cell_type": "code",
   "execution_count": 6,
   "metadata": {},
   "outputs": [
    {
     "name": "stdout",
     "output_type": "stream",
     "text": [
      "V:\n",
      "-7.00 -6.00 -5.00 -4.00 -3.00 \n",
      "-6.00 -5.00 -4.00 -3.00 -2.00 \n",
      "-5.00 -4.00 -3.00 -2.00 -1.00 \n",
      "-4.00 -3.00 -2.00 -1.00 0.00 \n",
      "-3.00 -2.00 -1.00 0.00 0.00 \n",
      "\n"
     ]
    }
   ],
   "source": [
    "from DistributedTests.Agents.DumbAgent import DumbAgent\n",
    "from DistributedTests.CentralLearners.vanillaDRLearner import VanillaDRLearner\n",
    "from DistributedTests.Environments.SimpleGrid import SimpleGrid\n",
    "from DistributedTests.Universe import Universe\n",
    "\n",
    "numEnviroments = 5\n",
    "environments = []\n",
    "centralLearner = VanillaDRLearner(1, 1)\n",
    "for _ in range(numEnviroments):\n",
    "    environment = SimpleGrid(centralLearner, 5,5, (4,4), DumbAgent, 0.1)\n",
    "    environments.append(environment)\n",
    "centralLearner.initialize(environments[-1].getAllPossibleStateActions())\n",
    "universe = Universe(environments, centralLearner)\n",
    "universe.trainMany(100)\n",
    "\n",
    "centralLearner.printV2D()\n",
    "\n"
   ]
  }
 ],
 "metadata": {
  "kernelspec": {
   "display_name": "Python 3",
   "language": "python",
   "name": "python3"
  },
  "language_info": {
   "codemirror_mode": {
    "name": "ipython",
    "version": 3
   },
   "file_extension": ".py",
   "mimetype": "text/x-python",
   "name": "python",
   "nbconvert_exporter": "python",
   "pygments_lexer": "ipython3",
   "version": "3.11.1 (main, Dec 23 2022, 09:25:23) [Clang 14.0.0 (clang-1400.0.29.202)]"
  },
  "orig_nbformat": 4,
  "vscode": {
   "interpreter": {
    "hash": "5c7b89af1651d0b8571dde13640ecdccf7d5a6204171d6ab33e7c296e100e08a"
   }
  }
 },
 "nbformat": 4,
 "nbformat_minor": 2
}
