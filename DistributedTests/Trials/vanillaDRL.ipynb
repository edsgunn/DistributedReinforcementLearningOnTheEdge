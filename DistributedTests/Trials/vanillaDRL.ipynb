{
 "cells": [
  {
   "cell_type": "markdown",
   "metadata": {},
   "source": [
    "### Vanilla Distributed Reinforcement Learning"
   ]
  },
  {
   "cell_type": "code",
   "execution_count": null,
   "metadata": {},
   "outputs": [],
   "source": [
    "from DistributedTests.Agents.DumbAgent import DumbAgent\n",
    "from DistributedTests.CentralLearners.vanillaDRLearner import VanillaDRLearner\n",
    "from DistributedTests.Environments.SimpleGrid import SimpleGrid\n",
    "from DistributedTests.Universe import Universe\n",
    "\n",
    "numEnviroments = 3\n",
    "environments = []\n",
    "centralLearner = VanillaDRLearner(0.9, 0.9)\n",
    "for _ in range(numEnviroments):\n",
    "    environment = SimpleGrid(5,5, (4,4), DumbAgent, 0.1)\n",
    "centralLearner.initialize(environment.getAllPossibleStateActions())\n",
    "\n",
    "universe = Universe(environments, centralLearner)\n",
    "universe.trainMany()"
   ]
  }
 ],
 "metadata": {
  "kernelspec": {
   "display_name": "Python 3.10.6 64-bit",
   "language": "python",
   "name": "python3"
  },
  "language_info": {
   "name": "python",
   "version": "3.10.6"
  },
  "orig_nbformat": 4,
  "vscode": {
   "interpreter": {
    "hash": "b0fa6594d8f4cbf19f97940f81e996739fb7646882a419484c72d19e05852a7e"
   }
  }
 },
 "nbformat": 4,
 "nbformat_minor": 2
}
