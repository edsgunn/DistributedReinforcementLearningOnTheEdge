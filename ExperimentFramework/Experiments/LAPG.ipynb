{
 "cells": [
  {
   "cell_type": "code",
   "execution_count": 1,
   "metadata": {},
   "outputs": [
    {
     "name": "stdout",
     "output_type": "stream",
     "text": [
      "/Users/edwardgunn/Documents/4YP/DistributedReinforcementLearningOnTheEdge\n"
     ]
    }
   ],
   "source": [
    "%cd ../.."
   ]
  },
  {
   "cell_type": "code",
   "execution_count": 2,
   "metadata": {},
   "outputs": [
    {
     "name": "stdout",
     "output_type": "stream",
     "text": [
      "Running algorithm: LAPG\n",
      "Running 3 agents\n",
      "Running environment: SimpleGrid\n",
      "Starting training\n",
      "\n",
      "Episode 99/100 Episode truncated, 3 agents running\r"
     ]
    }
   ],
   "source": [
    "from ExperimentFramework.Algorithms.LAPG import LAPG\n",
    "from ExperimentFramework.Universe import Universe\n",
    "from ExperimentFramework.Environments.BlackJack import BlackJack\n",
    "from ExperimentFramework.Environments.CliffWalking import CliffWalking\n",
    "from ExperimentFramework.Environments.FrozenLake import FrozenLake\n",
    "from ExperimentFramework.Environments.Taxi import Taxi\n",
    "from ExperimentFramework.Environments.CartPole import CartPole\n",
    "from ExperimentFramework.Environments.SimpleGrid import SimpleGrid\n",
    "from Common.JsonEncoder import NpEncoder\n",
    "\n",
    "import pickle\n",
    "\n",
    "typesOfEnvironment = [SimpleGrid]\n",
    "environmentParameters = [{\"width\": 5, \"height\": 5, \"terminal\": (4,4)}]#[{\"render_mode\":\"human\"}]#\n",
    "algorithms = [LAPG]\n",
    "algorithmParameters = [{\n",
    "    \"centralLearnerParameters\": {\n",
    "    }, \n",
    "    \"agentParameters\":[\n",
    "        {\n",
    "            \"gamma\": 0.99,\n",
    "            \"N\": 4,\n",
    "            \"D\": 4,\n",
    "            \"M\": 3,\n",
    "            \"eta\": 1\n",
    "        }\n",
    "    ],\n",
    "    \"hiddenSize\": 8,\n",
    "    \"alpha\": 0.1\n",
    "}]\n",
    "parameters = {\"numbersOfAgents\":[3], \"numEpisodes\":100, \"maxSteps\":100}\n",
    "universe = Universe(typesOfEnvironment, environmentParameters, algorithms, algorithmParameters, parameters)\n",
    "universe.runTrial()\n",
    "with open('ExperimentFramework/Experiments/Results/16.pkl', 'wb') as outp:\n",
    "    pickle.dump(universe.logger.data, outp, pickle.HIGHEST_PROTOCOL)"
   ]
  }
 ],
 "metadata": {
  "kernelspec": {
   "display_name": "Python 3",
   "language": "python",
   "name": "python3"
  },
  "language_info": {
   "codemirror_mode": {
    "name": "ipython",
    "version": 3
   },
   "file_extension": ".py",
   "mimetype": "text/x-python",
   "name": "python",
   "nbconvert_exporter": "python",
   "pygments_lexer": "ipython3",
   "version": "3.10.9"
  },
  "orig_nbformat": 4,
  "vscode": {
   "interpreter": {
    "hash": "b0fa6594d8f4cbf19f97940f81e996739fb7646882a419484c72d19e05852a7e"
   }
  }
 },
 "nbformat": 4,
 "nbformat_minor": 2
}
