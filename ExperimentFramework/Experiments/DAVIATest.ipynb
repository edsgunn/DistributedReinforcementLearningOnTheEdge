{
 "cells": [
  {
   "cell_type": "code",
   "execution_count": 1,
   "metadata": {},
   "outputs": [
    {
     "name": "stdout",
     "output_type": "stream",
     "text": [
      "/Users/edwardgunn/Documents/4YP/DistributedReinforcementLearningOnTheEdge\n"
     ]
    }
   ],
   "source": [
    "%cd ../.."
   ]
  },
  {
   "cell_type": "code",
   "execution_count": 2,
   "metadata": {},
   "outputs": [
    {
     "name": "stdout",
     "output_type": "stream",
     "text": [
      "Running algorithm: DAVIA\n",
      "Running 5 agents\n",
      "Running environment: SimpleGrid\n",
      "Starting training\n",
      "\n",
      "Episode 999/1000\r"
     ]
    }
   ],
   "source": [
    "from ExperimentFramework.Algorithms.DAVIA import DAVIA\n",
    "from ExperimentFramework.Universe import Universe\n",
    "from ExperimentFramework.Environments.BlackJack import BlackJack\n",
    "from ExperimentFramework.Environments.CliffWalking import CliffWalking\n",
    "from ExperimentFramework.Environments.FrozenLake import FrozenLake\n",
    "from ExperimentFramework.Environments.Taxi import Taxi\n",
    "from ExperimentFramework.Environments.CartPole import CartPole\n",
    "\n",
    "from ExperimentFramework.Environments.SimpleGrid import SimpleGrid\n",
    "\n",
    "import pickle\n",
    "\n",
    "typesOfEnvironment = [SimpleGrid]\n",
    "environmentParameters = [{\"width\": 5, \"height\": 5, \"terminal\": (4,4)}]#[{\"render_mode\":\"human\"}][{}]#\n",
    "algorithms = [DAVIA]\n",
    "algorithmParameters = [{\"centralLearnerParameters\":{}, \"agentParameters\":[{\"lambda\": 5,\n",
    "            \"rho\": 0.99,\n",
    "            \"gamma\": 1,\n",
    "            \"reg\": 0.001,\n",
    "            \"T\": 5,\n",
    "            \"N\": 1000,\n",
    "            \"policyEpsilon\": 0.8\n",
    "            }], \"epsilon\":1}]\n",
    "parameters = {\"numbersOfAgents\":[5], \"numEpisodes\":1000, \"maxSteps\": 1000}\n",
    "universe = Universe(typesOfEnvironment, environmentParameters, algorithms, algorithmParameters, parameters)\n",
    "universe.runTrial()\n",
    "with open('ExperimentFramework/Experiments/Results/13.pkl', 'wb') as outp:\n",
    "    pickle.dump(universe.logger.data, outp, pickle.HIGHEST_PROTOCOL)"
   ]
  }
 ],
 "metadata": {
  "kernelspec": {
   "display_name": "Python 3",
   "language": "python",
   "name": "python3"
  },
  "language_info": {
   "codemirror_mode": {
    "name": "ipython",
    "version": 3
   },
   "file_extension": ".py",
   "mimetype": "text/x-python",
   "name": "python",
   "nbconvert_exporter": "python",
   "pygments_lexer": "ipython3",
   "version": "3.10.9"
  },
  "orig_nbformat": 4,
  "vscode": {
   "interpreter": {
    "hash": "b0fa6594d8f4cbf19f97940f81e996739fb7646882a419484c72d19e05852a7e"
   }
  }
 },
 "nbformat": 4,
 "nbformat_minor": 2
}
