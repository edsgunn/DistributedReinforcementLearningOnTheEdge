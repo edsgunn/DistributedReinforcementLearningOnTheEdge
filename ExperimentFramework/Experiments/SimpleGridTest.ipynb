{
 "cells": [
  {
   "cell_type": "code",
   "execution_count": 1,
   "metadata": {},
   "outputs": [
    {
     "name": "stdout",
     "output_type": "stream",
     "text": [
      "/Users/edwardgunn/Documents/4YP/DistributedReinforcementLearningOnTheEdge\n"
     ]
    }
   ],
   "source": [
    "%cd ../.."
   ]
  },
  {
   "cell_type": "code",
   "execution_count": 2,
   "metadata": {},
   "outputs": [
    {
     "name": "stdout",
     "output_type": "stream",
     "text": [
      "Running algorithm: DQL\n",
      "Running 1 agents\n",
      "Running environment: SimpleGrid\n",
      "Starting training\n",
      "\n",
      "Running 3 agents                                                 \n",
      "Running environment: SimpleGrid\n",
      "Starting training\n",
      "\n",
      "Running 5 agents                                                 \n",
      "Running environment: SimpleGrid\n",
      "Starting training\n",
      "\n",
      "Running algorithm: EBCDQL                                        \n",
      "Running 1 agents\n",
      "Running environment: SimpleGrid\n",
      "Starting training\n",
      "\n",
      "Running 3 agents                                                 \n",
      "Running environment: SimpleGrid\n",
      "Starting training\n",
      "\n",
      "Running 5 agents                                                 \n",
      "Running environment: SimpleGrid\n",
      "Starting training\n",
      "\n",
      "Running algorithm: DAVIA                                         \n",
      "Running 1 agents\n",
      "Running environment: SimpleGrid\n",
      "Starting training\n",
      "\n",
      "Running 3 agents                                                 \n",
      "Running environment: SimpleGrid\n",
      "Starting training\n",
      "\n",
      "Running 5 agents                                                 \n",
      "Running environment: SimpleGrid\n",
      "Starting training\n",
      "\n",
      "Running algorithm: EvolutionStrategies                           \n",
      "Running 1 agents\n",
      "Running environment: SimpleGrid\n",
      "Starting training\n",
      "\n",
      "Running 3 agents Episode truncated, 1 agents running             \n",
      "Running environment: SimpleGrid\n",
      "Starting training\n",
      "\n",
      "Running 5 agents Episode truncated, 3 agents running             \n",
      "Running environment: SimpleGrid\n",
      "Starting training\n",
      "\n",
      "Episode 999/1000 Episode truncated, 5 agents running             \r"
     ]
    }
   ],
   "source": [
    "from ExperimentFramework.Algorithms.DQL import DQL\n",
    "from ExperimentFramework.Algorithms.EBCDQL import EBCDQL\n",
    "from ExperimentFramework.Algorithms.DAVIA import DAVIA\n",
    "from ExperimentFramework.Algorithms.EvolutionStrategies import EvolutionStrategies\n",
    "\n",
    "from ExperimentFramework.Universe import Universe\n",
    "from ExperimentFramework.Environments.BlackJack import BlackJack\n",
    "from ExperimentFramework.Environments.CliffWalking import CliffWalking\n",
    "from ExperimentFramework.Environments.FrozenLake import FrozenLake\n",
    "from ExperimentFramework.Environments.Taxi import Taxi\n",
    "from ExperimentFramework.Environments.CartPole import CartPole\n",
    "from ExperimentFramework.Environments.SimpleGrid import SimpleGrid\n",
    "from ExperimentFramework.Environments.LunarLander import LunarLander\n",
    "\n",
    "from Common.JsonEncoder import NpEncoder\n",
    "\n",
    "import pickle\n",
    "\n",
    "typesOfEnvironment = [SimpleGrid]\n",
    "environmentParameters = [{\"width\": 5, \"height\": 5, \"terminal\": (4,4)}]\n",
    "algorithms = [DQL, EBCDQL, DAVIA, EvolutionStrategies]\n",
    "algorithmParameters = [\n",
    "    {\n",
    "        \"centralLearnerParameters\":{\"alpha\":0.9, \"gamma\":0.9}, \n",
    "        \"agentParameters\":[{\"epsilon\":0.1}]\n",
    "    }, \n",
    "    {\n",
    "        \"centralLearnerParameters\": {\n",
    "            \"alpha\":0.9, \"gamma\":0.9\n",
    "        }, \n",
    "        \"agentParameters\":[\n",
    "            {\n",
    "                \"epsilon\": 0.5,\n",
    "                \"policyEpsilon\": 0.1,\n",
    "                \"beta\": 0.05,\n",
    "                \"gamma\": 0.9,\n",
    "                \"rho\": 0.9\n",
    "            }\n",
    "        ]\n",
    "    },\n",
    "    {\n",
    "        \"centralLearnerParameters\":{}, \n",
    "        \"agentParameters\":[\n",
    "            {\n",
    "                \"lambda\": 5,\n",
    "                \"rho\": 0.99,\n",
    "                \"gamma\": 1,\n",
    "                \"reg\": 0.001,\n",
    "                \"T\": 5,\n",
    "                \"N\": 1000,\n",
    "                \"policyEpsilon\": 0.8\n",
    "            }\n",
    "        ], \n",
    "        \"epsilon\":1\n",
    "    },\n",
    "    {\n",
    "        'centralLearnerParameters': {\n",
    "            'alpha': 0.001, \n",
    "            'gamma': 0.01, \n",
    "        }, \n",
    "        'agentParameters': [{}], \n",
    "        'maxSeedInt': 1000000, \n",
    "        'seed': 5, \n",
    "        'sigma': 0.1, \n",
    "        'hiddenSize': 4\n",
    "    }\n",
    "]\n",
    "parameters = {\"numbersOfAgents\":[1,3,5], \"numEpisodes\":1000, \"maxSteps\":200}\n",
    "universe = Universe(typesOfEnvironment, environmentParameters, algorithms, algorithmParameters, parameters)\n",
    "universe.runTrial()\n",
    "with open('ExperimentFramework/Experiments/Results/SimpleGrid.pkl', 'wb') as outp:\n",
    "    pickle.dump(universe.logger.data, outp, pickle.HIGHEST_PROTOCOL)"
   ]
  }
 ],
 "metadata": {
  "kernelspec": {
   "display_name": "Python 3",
   "language": "python",
   "name": "python3"
  },
  "language_info": {
   "codemirror_mode": {
    "name": "ipython",
    "version": 3
   },
   "file_extension": ".py",
   "mimetype": "text/x-python",
   "name": "python",
   "nbconvert_exporter": "python",
   "pygments_lexer": "ipython3",
   "version": "3.10.9"
  },
  "orig_nbformat": 4,
  "vscode": {
   "interpreter": {
    "hash": "b0fa6594d8f4cbf19f97940f81e996739fb7646882a419484c72d19e05852a7e"
   }
  }
 },
 "nbformat": 4,
 "nbformat_minor": 2
}
