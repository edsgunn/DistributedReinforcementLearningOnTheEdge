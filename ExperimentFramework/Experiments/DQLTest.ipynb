{
 "cells": [
  {
   "cell_type": "code",
   "execution_count": 1,
   "metadata": {},
   "outputs": [
    {
     "name": "stdout",
     "output_type": "stream",
     "text": [
      "/Users/edwardgunn/Documents/4YP/DistributedReinforcementLearningOnTheEdge\n"
     ]
    }
   ],
   "source": [
    "%cd ../.."
   ]
  },
  {
   "cell_type": "code",
   "execution_count": 2,
   "metadata": {},
   "outputs": [],
   "source": [
    "from ExperimentFramework.Algorithms.DQL import DQL\n",
    "from ExperimentFramework.Universe import Universe\n",
    "from ExperimentFramework.Environments.BlackJack import BlackJack\n",
    "import pickle\n",
    "\n",
    "typesOfEnvironment = [BlackJack]\n",
    "environmentParameters = [{}]#[{\"render_mode\":\"human\"}]\n",
    "algorithms = [DQL]\n",
    "algorithmParameters = [{\"centralLearnerParameters\":{\"alpha\":0.9, \"gamma\":0.9}, \"agentParameters\":[{\"epsilon\":0.1}]}]\n",
    "parameters = {\"numbersOfAgents\":[1], \"numEpisodes\":1000}\n",
    "universe = Universe(typesOfEnvironment, environmentParameters, algorithms, algorithmParameters, parameters)\n",
    "universe.runTrial()\n",
    "with open('ExperimentFramework/Experiments/Results/2.pkl', 'wb') as outp:\n",
    "    pickle.dump(universe.logger.data, outp, pickle.HIGHEST_PROTOCOL)"
   ]
  }
 ],
 "metadata": {
  "kernelspec": {
   "display_name": "Python 3",
   "language": "python",
   "name": "python3"
  },
  "language_info": {
   "codemirror_mode": {
    "name": "ipython",
    "version": 3
   },
   "file_extension": ".py",
   "mimetype": "text/x-python",
   "name": "python",
   "nbconvert_exporter": "python",
   "pygments_lexer": "ipython3",
   "version": "3.11.1"
  },
  "orig_nbformat": 4,
  "vscode": {
   "interpreter": {
    "hash": "5c7b89af1651d0b8571dde13640ecdccf7d5a6204171d6ab33e7c296e100e08a"
   }
  }
 },
 "nbformat": 4,
 "nbformat_minor": 2
}
