{
 "cells": [
  {
   "cell_type": "code",
   "execution_count": 1,
   "metadata": {},
   "outputs": [
    {
     "name": "stdout",
     "output_type": "stream",
     "text": [
      "/Users/edwardgunn/Documents/4YP/DistributedReinforcementLearningOnTheEdge\n"
     ]
    }
   ],
   "source": [
    "%cd ../.."
   ]
  },
  {
   "cell_type": "code",
   "execution_count": 2,
   "metadata": {},
   "outputs": [
    {
     "name": "stdout",
     "output_type": "stream",
     "text": [
      "Running algorithm: DQL\n",
      "Running 1 agents\n",
      "Running environment: SimpleGrid\n",
      "Starting training\n",
      "\n",
      "Running environment: Blackjack-v1\n",
      "Starting training\n",
      "\n",
      "Running environment: CliffWalking-v0\n",
      "Starting training\n",
      "\n",
      "Running environment: FrozenLake-v1\n",
      "Starting training\n",
      "\n",
      "Running environment: Taxi-v3\n",
      "Starting training\n",
      "\n",
      "Running 3 agents\n",
      "Running environment: SimpleGrid\n",
      "Starting training\n",
      "\n",
      "Running environment: Blackjack-v1\n",
      "Starting training\n",
      "\n",
      "Running environment: CliffWalking-v0\n",
      "Starting training\n",
      "\n",
      "Running environment: FrozenLake-v1\n",
      "Starting training\n",
      "\n",
      "Running environment: Taxi-v3\n",
      "Starting training\n",
      "\n",
      "Episode 999/1000\r"
     ]
    }
   ],
   "source": [
    "from ExperimentFramework.Algorithms.DQL import DQL\n",
    "from ExperimentFramework.Universe import Universe\n",
    "from ExperimentFramework.Environments.BlackJack import BlackJack\n",
    "from ExperimentFramework.Environments.CliffWalking import CliffWalking\n",
    "from ExperimentFramework.Environments.FrozenLake import FrozenLake\n",
    "from ExperimentFramework.Environments.Taxi import Taxi\n",
    "\n",
    "from ExperimentFramework.Environments.SimpleGrid import SimpleGrid\n",
    "from Common.JsonEncoder import NpEncoder\n",
    "\n",
    "import pickle\n",
    "\n",
    "typesOfEnvironment = [SimpleGrid, BlackJack, CliffWalking, FrozenLake, Taxi]\n",
    "environmentParameters = [{\"width\": 5, \"height\": 5, \"terminal\": (4,4)}, {}, {}, {}, {}]#[{\"render_mode\":\"human\"}]\n",
    "algorithms = [DQL]\n",
    "algorithmParameters = [{\"centralLearnerParameters\":{\"alpha\":0.9, \"gamma\":0.9}, \"agentParameters\":[{\"epsilon\":0.1}]}]\n",
    "parameters = {\"numbersOfAgents\":[1,3], \"numEpisodes\":1000}\n",
    "universe = Universe(typesOfEnvironment, environmentParameters, algorithms, algorithmParameters, parameters)\n",
    "universe.runTrial()\n",
    "with open('ExperimentFramework/Experiments/Results/12.pkl', 'wb') as outp:\n",
    "    pickle.dump(universe.logger.data, outp, pickle.HIGHEST_PROTOCOL)"
   ]
  }
 ],
 "metadata": {
  "kernelspec": {
   "display_name": "Python 3",
   "language": "python",
   "name": "python3"
  },
  "language_info": {
   "codemirror_mode": {
    "name": "ipython",
    "version": 3
   },
   "file_extension": ".py",
   "mimetype": "text/x-python",
   "name": "python",
   "nbconvert_exporter": "python",
   "pygments_lexer": "ipython3",
   "version": "3.11.1"
  },
  "orig_nbformat": 4,
  "vscode": {
   "interpreter": {
    "hash": "5c7b89af1651d0b8571dde13640ecdccf7d5a6204171d6ab33e7c296e100e08a"
   }
  }
 },
 "nbformat": 4,
 "nbformat_minor": 2
}
