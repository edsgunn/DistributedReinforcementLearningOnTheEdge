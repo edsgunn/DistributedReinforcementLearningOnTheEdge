{
 "cells": [
  {
   "cell_type": "code",
   "execution_count": 1,
   "metadata": {},
   "outputs": [
    {
     "name": "stdout",
     "output_type": "stream",
     "text": [
      "/Users/edwardgunn/Documents/4YP/DistributedReinforcementLearningOnTheEdge\n"
     ]
    }
   ],
   "source": [
    "%cd ../.."
   ]
  },
  {
   "cell_type": "code",
   "execution_count": 2,
   "metadata": {},
   "outputs": [
    {
     "name": "stdout",
     "output_type": "stream",
     "text": [
      "Running algorithm: EvolutionStrategies\n",
      "Running 20 agents\n",
      "Running environment: CartPole-v1\n",
      "Starting training\n",
      "\n",
      "Episode 99/100\r"
     ]
    }
   ],
   "source": [
    "from ExperimentFramework.Algorithms.EvolutionStrategies import EvolutionStrategies\n",
    "from ExperimentFramework.Universe import Universe\n",
    "from ExperimentFramework.Environments.BlackJack import BlackJack\n",
    "from ExperimentFramework.Environments.CliffWalking import CliffWalking\n",
    "from ExperimentFramework.Environments.FrozenLake import FrozenLake\n",
    "from ExperimentFramework.Environments.Taxi import Taxi\n",
    "from ExperimentFramework.Environments.CartPole import CartPole\n",
    "from Common.JsonEncoder import NpEncoder\n",
    "\n",
    "from ExperimentFramework.Environments.SimpleGrid import SimpleGrid\n",
    "\n",
    "import json\n",
    "import pickle\n",
    "\n",
    "typesOfEnvironment = [CartPole]\n",
    "environmentParameters = [{}]#[{\"render_mode\":\"human\"}]\n",
    "algorithms = [EvolutionStrategies]\n",
    "algorithmParameters = [{\n",
    "    \"centralLearnerParameters\":{\n",
    "        \"alpha\":0.01\n",
    "        }, \n",
    "    \"agentParameters\":[{}],\n",
    "    \"maxSeedInt\": 1000000,\n",
    "    \"seed\": 5,\n",
    "    \"sigma\": 1,\n",
    "    \"hiddenSize\": 8\n",
    "}]\n",
    "parameters = {\"numbersOfAgents\":[20], \"numEpisodes\":100, \"maxSteps\": 100000}\n",
    "universe = Universe(typesOfEnvironment, environmentParameters, algorithms, algorithmParameters, parameters)\n",
    "universe.runTrial()\n",
    "with open('ExperimentFramework/Experiments/Results/15.pkl', 'wb') as outp:\n",
    "    pickle.dump(universe.logger.data, outp, pickle.HIGHEST_PROTOCOL)\n"
   ]
  }
 ],
 "metadata": {
  "kernelspec": {
   "display_name": "Python 3",
   "language": "python",
   "name": "python3"
  },
  "language_info": {
   "codemirror_mode": {
    "name": "ipython",
    "version": 3
   },
   "file_extension": ".py",
   "mimetype": "text/x-python",
   "name": "python",
   "nbconvert_exporter": "python",
   "pygments_lexer": "ipython3",
   "version": "3.10.9"
  },
  "orig_nbformat": 4,
  "vscode": {
   "interpreter": {
    "hash": "b0fa6594d8f4cbf19f97940f81e996739fb7646882a419484c72d19e05852a7e"
   }
  }
 },
 "nbformat": 4,
 "nbformat_minor": 2
}
