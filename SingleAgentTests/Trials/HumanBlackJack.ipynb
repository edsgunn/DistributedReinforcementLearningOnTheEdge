{
 "cells": [
  {
   "cell_type": "markdown",
   "metadata": {},
   "source": [
    "### Human played game of blackjack"
   ]
  },
  {
   "cell_type": "code",
   "execution_count": 4,
   "metadata": {},
   "outputs": [
    {
     "name": "stdout",
     "output_type": "stream",
     "text": [
      "/Users/edwardgunn/Documents\n"
     ]
    }
   ],
   "source": [
    "%cd ../.."
   ]
  },
  {
   "cell_type": "code",
   "execution_count": 6,
   "metadata": {},
   "outputs": [
    {
     "name": "stdout",
     "output_type": "stream",
     "text": [
      "Observable state: (12, 0)\n",
      "Possible actions: [0, 1]\n",
      "Step: 0\n",
      "---------------------------------\n",
      "State: (14, 0)\n",
      "Possible actions: [0, 1]\n",
      "Reward: 0\n",
      "Step: 1\n",
      "---------------------------------\n",
      "State: (17, 0)\n",
      "Possible actions: [0, 1]\n",
      "Reward: 0\n",
      "Step: 2\n",
      "---------------------------------\n",
      "Game Over\n",
      "Player: 23, Dealer: 17\n",
      "Player bust\n"
     ]
    }
   ],
   "source": [
    "from SingleAgentTests.Agents.Human import Human\n",
    "from SingleAgentTests.Environments.BlackJack import BlackJack\n",
    "from SingleAgentTests.Universe import Universe\n",
    "\n",
    "environment = BlackJack()\n",
    "agent = Human()\n",
    "universe = Universe(environment, agent)\n",
    "universe.start()"
   ]
  }
 ],
 "metadata": {
  "kernelspec": {
   "display_name": "Python 3.10.6 64-bit",
   "language": "python",
   "name": "python3"
  },
  "language_info": {
   "codemirror_mode": {
    "name": "ipython",
    "version": 3
   },
   "file_extension": ".py",
   "mimetype": "text/x-python",
   "name": "python",
   "nbconvert_exporter": "python",
   "pygments_lexer": "ipython3",
   "version": "3.10.6"
  },
  "orig_nbformat": 4,
  "vscode": {
   "interpreter": {
    "hash": "b0fa6594d8f4cbf19f97940f81e996739fb7646882a419484c72d19e05852a7e"
   }
  }
 },
 "nbformat": 4,
 "nbformat_minor": 2
}
